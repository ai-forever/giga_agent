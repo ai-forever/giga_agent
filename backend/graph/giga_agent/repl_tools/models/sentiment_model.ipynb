{
 "cells": [
  {
   "cell_type": "code",
   "id": "initial_id",
   "metadata": {
    "collapsed": true,
    "ExecuteTime": {
     "end_time": "2025-08-14T17:54:55.944837Z",
     "start_time": "2025-08-14T17:54:54.448513Z"
    }
   },
   "source": "!pip install langchain_gigachat pandas numpy scikit-learn python-dotenv",
   "outputs": [
    {
     "name": "stdout",
     "output_type": "stream",
     "text": [
      "Requirement already satisfied: langchain_gigachat in /Users/mikelarg/.pyenv/versions/3.12.9/lib/python3.12/site-packages (0.3.10)\r\n",
      "Requirement already satisfied: pandas in /Users/mikelarg/.pyenv/versions/3.12.9/lib/python3.12/site-packages (2.3.1)\r\n",
      "Requirement already satisfied: numpy in /Users/mikelarg/.pyenv/versions/3.12.9/lib/python3.12/site-packages (2.2.6)\r\n",
      "Requirement already satisfied: scikit-learn in /Users/mikelarg/.pyenv/versions/3.12.9/lib/python3.12/site-packages (1.6.1)\r\n",
      "Requirement already satisfied: python-dotenv in /Users/mikelarg/.pyenv/versions/3.12.9/lib/python3.12/site-packages (1.1.0)\r\n",
      "Requirement already satisfied: gigachat<0.2.0,>=0.1.39post1 in /Users/mikelarg/.pyenv/versions/3.12.9/lib/python3.12/site-packages (from langchain_gigachat) (0.1.39.post1)\r\n",
      "Requirement already satisfied: langchain-core<0.4,>=0.3 in /Users/mikelarg/.pyenv/versions/3.12.9/lib/python3.12/site-packages (from langchain_gigachat) (0.3.72)\r\n",
      "Requirement already satisfied: types-requests<3.0,>=2.32 in /Users/mikelarg/.pyenv/versions/3.12.9/lib/python3.12/site-packages (from langchain_gigachat) (2.32.0.20250328)\r\n",
      "Requirement already satisfied: httpx<1 in /Users/mikelarg/.pyenv/versions/3.12.9/lib/python3.12/site-packages (from gigachat<0.2.0,>=0.1.39post1->langchain_gigachat) (0.28.1)\r\n",
      "Requirement already satisfied: pydantic>=1 in /Users/mikelarg/.pyenv/versions/3.12.9/lib/python3.12/site-packages (from gigachat<0.2.0,>=0.1.39post1->langchain_gigachat) (2.11.4)\r\n",
      "Requirement already satisfied: anyio in /Users/mikelarg/.pyenv/versions/3.12.9/lib/python3.12/site-packages (from httpx<1->gigachat<0.2.0,>=0.1.39post1->langchain_gigachat) (3.7.1)\r\n",
      "Requirement already satisfied: certifi in /Users/mikelarg/.pyenv/versions/3.12.9/lib/python3.12/site-packages (from httpx<1->gigachat<0.2.0,>=0.1.39post1->langchain_gigachat) (2025.4.26)\r\n",
      "Requirement already satisfied: httpcore==1.* in /Users/mikelarg/.pyenv/versions/3.12.9/lib/python3.12/site-packages (from httpx<1->gigachat<0.2.0,>=0.1.39post1->langchain_gigachat) (1.0.9)\r\n",
      "Requirement already satisfied: idna in /Users/mikelarg/.pyenv/versions/3.12.9/lib/python3.12/site-packages (from httpx<1->gigachat<0.2.0,>=0.1.39post1->langchain_gigachat) (3.10)\r\n",
      "Requirement already satisfied: h11>=0.16 in /Users/mikelarg/.pyenv/versions/3.12.9/lib/python3.12/site-packages (from httpcore==1.*->httpx<1->gigachat<0.2.0,>=0.1.39post1->langchain_gigachat) (0.16.0)\r\n",
      "Requirement already satisfied: langsmith>=0.3.45 in /Users/mikelarg/.pyenv/versions/3.12.9/lib/python3.12/site-packages (from langchain-core<0.4,>=0.3->langchain_gigachat) (0.4.12)\r\n",
      "Requirement already satisfied: tenacity!=8.4.0,<10.0.0,>=8.1.0 in /Users/mikelarg/.pyenv/versions/3.12.9/lib/python3.12/site-packages (from langchain-core<0.4,>=0.3->langchain_gigachat) (9.1.2)\r\n",
      "Requirement already satisfied: jsonpatch<2.0,>=1.33 in /Users/mikelarg/.pyenv/versions/3.12.9/lib/python3.12/site-packages (from langchain-core<0.4,>=0.3->langchain_gigachat) (1.33)\r\n",
      "Requirement already satisfied: PyYAML>=5.3 in /Users/mikelarg/.pyenv/versions/3.12.9/lib/python3.12/site-packages (from langchain-core<0.4,>=0.3->langchain_gigachat) (6.0.2)\r\n",
      "Requirement already satisfied: typing-extensions>=4.7 in /Users/mikelarg/.pyenv/versions/3.12.9/lib/python3.12/site-packages (from langchain-core<0.4,>=0.3->langchain_gigachat) (4.14.1)\r\n",
      "Requirement already satisfied: packaging>=23.2 in /Users/mikelarg/.pyenv/versions/3.12.9/lib/python3.12/site-packages (from langchain-core<0.4,>=0.3->langchain_gigachat) (24.2)\r\n",
      "Requirement already satisfied: jsonpointer>=1.9 in /Users/mikelarg/.pyenv/versions/3.12.9/lib/python3.12/site-packages (from jsonpatch<2.0,>=1.33->langchain-core<0.4,>=0.3->langchain_gigachat) (3.0.0)\r\n",
      "Requirement already satisfied: urllib3>=2 in /Users/mikelarg/.pyenv/versions/3.12.9/lib/python3.12/site-packages (from types-requests<3.0,>=2.32->langchain_gigachat) (2.4.0)\r\n",
      "Requirement already satisfied: python-dateutil>=2.8.2 in /Users/mikelarg/.pyenv/versions/3.12.9/lib/python3.12/site-packages (from pandas) (2.9.0.post0)\r\n",
      "Requirement already satisfied: pytz>=2020.1 in /Users/mikelarg/.pyenv/versions/3.12.9/lib/python3.12/site-packages (from pandas) (2025.2)\r\n",
      "Requirement already satisfied: tzdata>=2022.7 in /Users/mikelarg/.pyenv/versions/3.12.9/lib/python3.12/site-packages (from pandas) (2025.2)\r\n",
      "Requirement already satisfied: scipy>=1.6.0 in /Users/mikelarg/.pyenv/versions/3.12.9/lib/python3.12/site-packages (from scikit-learn) (1.15.3)\r\n",
      "Requirement already satisfied: joblib>=1.2.0 in /Users/mikelarg/.pyenv/versions/3.12.9/lib/python3.12/site-packages (from scikit-learn) (1.5.0)\r\n",
      "Requirement already satisfied: threadpoolctl>=3.1.0 in /Users/mikelarg/.pyenv/versions/3.12.9/lib/python3.12/site-packages (from scikit-learn) (3.6.0)\r\n",
      "Requirement already satisfied: orjson>=3.9.14 in /Users/mikelarg/.pyenv/versions/3.12.9/lib/python3.12/site-packages (from langsmith>=0.3.45->langchain-core<0.4,>=0.3->langchain_gigachat) (3.10.18)\r\n",
      "Requirement already satisfied: requests-toolbelt>=1.0.0 in /Users/mikelarg/.pyenv/versions/3.12.9/lib/python3.12/site-packages (from langsmith>=0.3.45->langchain-core<0.4,>=0.3->langchain_gigachat) (1.0.0)\r\n",
      "Requirement already satisfied: requests>=2.0.0 in /Users/mikelarg/.pyenv/versions/3.12.9/lib/python3.12/site-packages (from langsmith>=0.3.45->langchain-core<0.4,>=0.3->langchain_gigachat) (2.32.3)\r\n",
      "Requirement already satisfied: zstandard>=0.23.0 in /Users/mikelarg/.pyenv/versions/3.12.9/lib/python3.12/site-packages (from langsmith>=0.3.45->langchain-core<0.4,>=0.3->langchain_gigachat) (0.23.0)\r\n",
      "Requirement already satisfied: annotated-types>=0.6.0 in /Users/mikelarg/.pyenv/versions/3.12.9/lib/python3.12/site-packages (from pydantic>=1->gigachat<0.2.0,>=0.1.39post1->langchain_gigachat) (0.7.0)\r\n",
      "Requirement already satisfied: pydantic-core==2.33.2 in /Users/mikelarg/.pyenv/versions/3.12.9/lib/python3.12/site-packages (from pydantic>=1->gigachat<0.2.0,>=0.1.39post1->langchain_gigachat) (2.33.2)\r\n",
      "Requirement already satisfied: typing-inspection>=0.4.0 in /Users/mikelarg/.pyenv/versions/3.12.9/lib/python3.12/site-packages (from pydantic>=1->gigachat<0.2.0,>=0.1.39post1->langchain_gigachat) (0.4.0)\r\n",
      "Requirement already satisfied: six>=1.5 in /Users/mikelarg/.pyenv/versions/3.12.9/lib/python3.12/site-packages (from python-dateutil>=2.8.2->pandas) (1.17.0)\r\n",
      "Requirement already satisfied: charset-normalizer<4,>=2 in /Users/mikelarg/.pyenv/versions/3.12.9/lib/python3.12/site-packages (from requests>=2.0.0->langsmith>=0.3.45->langchain-core<0.4,>=0.3->langchain_gigachat) (3.4.1)\r\n",
      "Requirement already satisfied: sniffio>=1.1 in /Users/mikelarg/.pyenv/versions/3.12.9/lib/python3.12/site-packages (from anyio->httpx<1->gigachat<0.2.0,>=0.1.39post1->langchain_gigachat) (1.3.1)\r\n"
     ]
    }
   ],
   "execution_count": 6
  },
  {
   "cell_type": "code",
   "id": "7c004b8f54fb6906",
   "metadata": {
    "ExecuteTime": {
     "end_time": "2025-08-14T17:54:57.813417Z",
     "start_time": "2025-08-14T17:54:57.806495Z"
    }
   },
   "source": [
    "from dotenv import load_dotenv\n",
    "\n",
    "load_dotenv()\n"
   ],
   "outputs": [
    {
     "data": {
      "text/plain": [
       "True"
      ]
     },
     "execution_count": 7,
     "metadata": {},
     "output_type": "execute_result"
    }
   ],
   "execution_count": 7
  },
  {
   "cell_type": "code",
   "id": "172e58ca84f3760",
   "metadata": {
    "ExecuteTime": {
     "end_time": "2025-08-14T17:54:58.754118Z",
     "start_time": "2025-08-14T17:54:58.752469Z"
    }
   },
   "source": [
    "from giga_agent.utils.llm import load_embeddings\n",
    "\n",
    "emb = load_embeddings()"
   ],
   "outputs": [],
   "execution_count": 8
  },
  {
   "cell_type": "code",
   "id": "4b84db9acf5d601b",
   "metadata": {
    "ExecuteTime": {
     "end_time": "2025-08-14T17:54:59.688255Z",
     "start_time": "2025-08-14T17:54:59.673964Z"
    }
   },
   "source": [
    "import pandas as pd\n",
    "\n",
    "df = pd.read_csv('rusentiment_random_posts.csv')"
   ],
   "outputs": [
    {
     "ename": "ModuleNotFoundError",
     "evalue": "No module named 'pandas'",
     "output_type": "error",
     "traceback": [
      "\u001B[31m---------------------------------------------------------------------------\u001B[39m",
      "\u001B[31mModuleNotFoundError\u001B[39m                       Traceback (most recent call last)",
      "\u001B[36mCell\u001B[39m\u001B[36m \u001B[39m\u001B[32mIn[9]\u001B[39m\u001B[32m, line 1\u001B[39m\n\u001B[32m----> \u001B[39m\u001B[32m1\u001B[39m \u001B[38;5;28;01mimport\u001B[39;00m\u001B[38;5;250m \u001B[39m\u001B[34;01mpandas\u001B[39;00m\u001B[38;5;250m \u001B[39m\u001B[38;5;28;01mas\u001B[39;00m\u001B[38;5;250m \u001B[39m\u001B[34;01mpd\u001B[39;00m\n\u001B[32m      3\u001B[39m df = pd.read_csv(\u001B[33m'\u001B[39m\u001B[33mrusentiment_random_posts.csv\u001B[39m\u001B[33m'\u001B[39m)\n",
      "\u001B[31mModuleNotFoundError\u001B[39m: No module named 'pandas'"
     ]
    }
   ],
   "execution_count": 9
  },
  {
   "cell_type": "code",
   "execution_count": 6,
   "id": "956e6a20500fce37",
   "metadata": {
    "ExecuteTime": {
     "end_time": "2025-05-21T09:36:21.770126Z",
     "start_time": "2025-05-21T09:36:21.759412Z"
    }
   },
   "outputs": [],
   "source": [
    "filtered_df = pd.concat([df[df['label'] == 'neutral'][:1500], df[df['label'] == 'positive'][:1200], df[df['label'] == 'negative'][:1000]])"
   ]
  },
  {
   "cell_type": "code",
   "execution_count": 7,
   "id": "fc9a4bd83411dc76",
   "metadata": {
    "ExecuteTime": {
     "end_time": "2025-05-21T09:37:03.001721Z",
     "start_time": "2025-05-21T09:36:24.090974Z"
    }
   },
   "outputs": [],
   "source": [
    "embs = emb.embed_documents(list(filtered_df['text']))"
   ]
  },
  {
   "cell_type": "code",
   "execution_count": 8,
   "id": "e8d5f8722d87ba19",
   "metadata": {
    "ExecuteTime": {
     "end_time": "2025-05-20T15:44:26.990048Z",
     "start_time": "2025-05-20T15:44:26.987530Z"
    }
   },
   "outputs": [
    {
     "data": {
      "text/plain": [
       "3700"
      ]
     },
     "execution_count": 8,
     "metadata": {},
     "output_type": "execute_result"
    }
   ],
   "source": [
    "len(embs)"
   ]
  },
  {
   "cell_type": "code",
   "execution_count": 9,
   "id": "3ebc517e54445e6d",
   "metadata": {
    "ExecuteTime": {
     "end_time": "2025-05-21T09:37:05.279003Z",
     "start_time": "2025-05-21T09:37:05.275554Z"
    }
   },
   "outputs": [],
   "source": [
    "filtered_df['emb'] = embs"
   ]
  },
  {
   "cell_type": "code",
   "execution_count": 10,
   "id": "854a04de0fada16e",
   "metadata": {
    "ExecuteTime": {
     "end_time": "2025-05-20T15:42:57.996892Z",
     "start_time": "2025-05-20T15:42:57.989680Z"
    }
   },
   "outputs": [
    {
     "data": {
      "text/html": [
       "<div>\n",
       "<style scoped>\n",
       "    .dataframe tbody tr th:only-of-type {\n",
       "        vertical-align: middle;\n",
       "    }\n",
       "\n",
       "    .dataframe tbody tr th {\n",
       "        vertical-align: top;\n",
       "    }\n",
       "\n",
       "    .dataframe thead th {\n",
       "        text-align: right;\n",
       "    }\n",
       "</style>\n",
       "<table border=\"1\" class=\"dataframe\">\n",
       "  <thead>\n",
       "    <tr style=\"text-align: right;\">\n",
       "      <th></th>\n",
       "      <th>label</th>\n",
       "      <th>text</th>\n",
       "      <th>emb</th>\n",
       "    </tr>\n",
       "  </thead>\n",
       "  <tbody>\n",
       "    <tr>\n",
       "      <th>5</th>\n",
       "      <td>neutral</td>\n",
       "      <td>Решите уравнение мужских дел для жизни :\\nДомо...</td>\n",
       "      <td>[-1.837890625, 0.226318359375, 1.5, 1.11816406...</td>\n",
       "    </tr>\n",
       "    <tr>\n",
       "      <th>7</th>\n",
       "      <td>neutral</td>\n",
       "      <td>Просто пост :)</td>\n",
       "      <td>[-5.0859375, -0.6455078125, 3.802734375, 1.769...</td>\n",
       "    </tr>\n",
       "    <tr>\n",
       "      <th>14</th>\n",
       "      <td>neutral</td>\n",
       "      <td>познакомил свою девушку с Ксюшей</td>\n",
       "      <td>[-3.009765625, 1.0556640625, 2.669921875, 1.41...</td>\n",
       "    </tr>\n",
       "    <tr>\n",
       "      <th>22</th>\n",
       "      <td>neutral</td>\n",
       "      <td>\\nРекомендую смотреть это видео, раскрыв на ве...</td>\n",
       "      <td>[-2.45703125, -1.396484375, 4.67578125, 1.7392...</td>\n",
       "    </tr>\n",
       "    <tr>\n",
       "      <th>27</th>\n",
       "      <td>neutral</td>\n",
       "      <td>Не позволяйте женщине быть сильной… Ведь силой...</td>\n",
       "      <td>[-4.68359375, -0.9248046875, 6.07421875, 0.038...</td>\n",
       "    </tr>\n",
       "    <tr>\n",
       "      <th>...</th>\n",
       "      <td>...</td>\n",
       "      <td>...</td>\n",
       "      <td>...</td>\n",
       "    </tr>\n",
       "    <tr>\n",
       "      <th>8497</th>\n",
       "      <td>negative</td>\n",
       "      <td>Сегодня в с.Петровское Беляевского района прои...</td>\n",
       "      <td>[1.1845703125, 0.2646484375, 2.615234375, 0.14...</td>\n",
       "    </tr>\n",
       "    <tr>\n",
       "      <th>8520</th>\n",
       "      <td>negative</td>\n",
       "      <td>Пидор,гамосек,параститутка</td>\n",
       "      <td>[-2.03125, 0.1951904296875, 3.71875, 1.640625,...</td>\n",
       "    </tr>\n",
       "    <tr>\n",
       "      <th>8553</th>\n",
       "      <td>negative</td>\n",
       "      <td>Обманул раз, обманет и другой! Ударил раз, уда...</td>\n",
       "      <td>[-3.630859375, 1.3017578125, 3.48046875, -0.10...</td>\n",
       "    </tr>\n",
       "    <tr>\n",
       "      <th>8571</th>\n",
       "      <td>negative</td>\n",
       "      <td>не ты охренела или что?)</td>\n",
       "      <td>[-3.013671875, -0.0207061767578125, 3.31640625...</td>\n",
       "    </tr>\n",
       "    <tr>\n",
       "      <th>8587</th>\n",
       "      <td>negative</td>\n",
       "      <td>Ппц...прочитал свои старые сообщения...КАКОЙ Ж...</td>\n",
       "      <td>[-2.724609375, 0.6142578125, 3.720703125, -1.0...</td>\n",
       "    </tr>\n",
       "  </tbody>\n",
       "</table>\n",
       "<p>3700 rows × 3 columns</p>\n",
       "</div>"
      ],
      "text/plain": [
       "         label                                               text  \\\n",
       "5      neutral  Решите уравнение мужских дел для жизни :\\nДомо...   \n",
       "7      neutral                                     Просто пост :)   \n",
       "14     neutral                   познакомил свою девушку с Ксюшей   \n",
       "22     neutral  \\nРекомендую смотреть это видео, раскрыв на ве...   \n",
       "27     neutral  Не позволяйте женщине быть сильной… Ведь силой...   \n",
       "...        ...                                                ...   \n",
       "8497  negative  Сегодня в с.Петровское Беляевского района прои...   \n",
       "8520  negative                         Пидор,гамосек,параститутка   \n",
       "8553  negative  Обманул раз, обманет и другой! Ударил раз, уда...   \n",
       "8571  negative                           не ты охренела или что?)   \n",
       "8587  negative  Ппц...прочитал свои старые сообщения...КАКОЙ Ж...   \n",
       "\n",
       "                                                    emb  \n",
       "5     [-1.837890625, 0.226318359375, 1.5, 1.11816406...  \n",
       "7     [-5.0859375, -0.6455078125, 3.802734375, 1.769...  \n",
       "14    [-3.009765625, 1.0556640625, 2.669921875, 1.41...  \n",
       "22    [-2.45703125, -1.396484375, 4.67578125, 1.7392...  \n",
       "27    [-4.68359375, -0.9248046875, 6.07421875, 0.038...  \n",
       "...                                                 ...  \n",
       "8497  [1.1845703125, 0.2646484375, 2.615234375, 0.14...  \n",
       "8520  [-2.03125, 0.1951904296875, 3.71875, 1.640625,...  \n",
       "8553  [-3.630859375, 1.3017578125, 3.48046875, -0.10...  \n",
       "8571  [-3.013671875, -0.0207061767578125, 3.31640625...  \n",
       "8587  [-2.724609375, 0.6142578125, 3.720703125, -1.0...  \n",
       "\n",
       "[3700 rows x 3 columns]"
      ]
     },
     "execution_count": 10,
     "metadata": {},
     "output_type": "execute_result"
    }
   ],
   "source": [
    "filtered_df"
   ]
  },
  {
   "cell_type": "code",
   "execution_count": 11,
   "id": "510d1f9febb379ec",
   "metadata": {
    "ExecuteTime": {
     "end_time": "2025-05-21T09:37:09.145320Z",
     "start_time": "2025-05-21T09:37:07.395153Z"
    }
   },
   "outputs": [
    {
     "name": "stderr",
     "output_type": "stream",
     "text": [
      "/Users/mikelarg/.pyenv/versions/3.12.9/lib/python3.12/site-packages/sklearn/linear_model/_logistic.py:1256: FutureWarning: 'multi_class' was deprecated in version 1.5 and will be removed in 1.7. Use OneVsRestClassifier(LogisticRegression(..)) instead. Leave it to its default value to avoid this warning.\n",
      "  warnings.warn(\n"
     ]
    },
    {
     "name": "stdout",
     "output_type": "stream",
     "text": [
      "              precision    recall  f1-score   support\n",
      "\n",
      "    negative       0.76      0.77      0.76       200\n",
      "     neutral       0.76      0.76      0.76       300\n",
      "    positive       0.77      0.77      0.77       240\n",
      "\n",
      "    accuracy                           0.77       740\n",
      "   macro avg       0.77      0.77      0.77       740\n",
      "weighted avg       0.77      0.77      0.77       740\n",
      "\n"
     ]
    }
   ],
   "source": [
    "import numpy as np\n",
    "from sklearn.linear_model import LogisticRegression\n",
    "from sklearn.model_selection import train_test_split\n",
    "from sklearn.metrics import classification_report\n",
    "\n",
    "X = np.vstack(filtered_df[\"emb\"].values)\n",
    "y = filtered_df[\"label\"].values\n",
    "\n",
    "X_train, X_val, y_train, y_val = train_test_split(\n",
    "    X, y, test_size=0.2, stratify=y, random_state=42\n",
    ")\n",
    "\n",
    "clf = LogisticRegression(max_iter=1000, n_jobs=-1, multi_class=\"ovr\", class_weight={'neutral':1.2, 'positive':1.0, 'negative':1})\n",
    "clf.fit(X_train, y_train)\n",
    "\n",
    "print(classification_report(y_val, clf.predict(X_val)))"
   ]
  },
  {
   "cell_type": "code",
   "execution_count": 12,
   "id": "b615dfbb7ba5bccd",
   "metadata": {
    "ExecuteTime": {
     "end_time": "2025-05-20T15:46:14.936176Z",
     "start_time": "2025-05-20T15:46:14.932810Z"
    }
   },
   "outputs": [],
   "source": [
    "def predict_sentiment(text: str) -> str:\n",
    "    emb_ = np.array(emb.embed_query(text)).reshape(1, -1)\n",
    "    proba = clf.predict_proba(emb_)[0]      # или model.predict(emb)\n",
    "    return clf.classes_[proba.argmax()] "
   ]
  },
  {
   "cell_type": "code",
   "execution_count": 13,
   "id": "d8ec538767be5d1b",
   "metadata": {
    "ExecuteTime": {
     "end_time": "2025-05-20T15:54:05.769590Z",
     "start_time": "2025-05-20T15:54:04.633849Z"
    }
   },
   "outputs": [
    {
     "name": "stdout",
     "output_type": "stream",
     "text": [
      "Requirement already satisfied: joblib in /Users/mikelarg/.pyenv/versions/3.12.9/lib/python3.12/site-packages (1.5.0)\n"
     ]
    }
   ],
   "source": [
    "!pip install joblib"
   ]
  },
  {
   "cell_type": "code",
   "execution_count": 14,
   "id": "c71a36eb3ff926a",
   "metadata": {
    "ExecuteTime": {
     "end_time": "2025-05-21T09:43:06.962460Z",
     "start_time": "2025-05-21T09:43:06.953067Z"
    }
   },
   "outputs": [
    {
     "data": {
      "text/plain": [
       "['sentiment_logreg.joblib']"
      ]
     },
     "execution_count": 14,
     "metadata": {},
     "output_type": "execute_result"
    }
   ],
   "source": [
    "import joblib\n",
    "\n",
    "# clf — ваш обученный LogisticRegression\n",
    "joblib.dump(clf, \"sentiment_logreg.joblib\", compress=3)"
   ]
  },
  {
   "cell_type": "code",
   "execution_count": 16,
   "id": "5bfd6d55ce24c4ae",
   "metadata": {
    "ExecuteTime": {
     "end_time": "2025-05-20T15:46:45.007972Z",
     "start_time": "2025-05-20T15:46:44.798295Z"
    }
   },
   "outputs": [
    {
     "data": {
      "text/plain": [
       "'positive'"
      ]
     },
     "execution_count": 16,
     "metadata": {},
     "output_type": "execute_result"
    }
   ],
   "source": [
    "predict_sentiment(\"очень классный товар\")"
   ]
  }
 ],
 "metadata": {
  "kernelspec": {
   "display_name": "Python 3",
   "language": "python",
   "name": "python3"
  },
  "language_info": {
   "codemirror_mode": {
    "name": "ipython",
    "version": 3
   },
   "file_extension": ".py",
   "mimetype": "text/x-python",
   "name": "python",
   "nbconvert_exporter": "python",
   "pygments_lexer": "ipython3",
   "version": "3.12.9"
  }
 },
 "nbformat": 4,
 "nbformat_minor": 5
}
